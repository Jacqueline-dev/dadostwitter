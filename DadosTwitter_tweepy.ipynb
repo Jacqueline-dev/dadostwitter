{
  "nbformat": 4,
  "nbformat_minor": 0,
  "metadata": {
    "colab": {
      "provenance": [],
      "authorship_tag": "ABX9TyNUXCpEZyxuqOYTjYz2CLDl",
      "include_colab_link": true
    },
    "kernelspec": {
      "name": "python3",
      "display_name": "Python 3"
    },
    "language_info": {
      "name": "python"
    }
  },
  "cells": [
    {
      "cell_type": "markdown",
      "metadata": {
        "id": "view-in-github",
        "colab_type": "text"
      },
      "source": [
        "<a href=\"https://colab.research.google.com/github/Jacqueline-dev/dadostwitter/blob/main/DadosTwitter_tweepy.ipynb\" target=\"_parent\"><img src=\"https://colab.research.google.com/assets/colab-badge.svg\" alt=\"Open In Colab\"/></a>"
      ]
    },
    {
      "cell_type": "markdown",
      "source": [
        "# Coletando dados no Twitter utilizando pacote Tweepy do Python"
      ],
      "metadata": {
        "id": "RJVgKo6FnIFG"
      }
    },
    {
      "cell_type": "code",
      "execution_count": null,
      "metadata": {
        "id": "7gFrmIlzl-kp"
      },
      "outputs": [],
      "source": [
        "# Instalação das Bibliotecas\n",
        "!pip install tweepy\n",
        "!pip install pymongo"
      ]
    },
    {
      "cell_type": "code",
      "source": [
        "# Importanção Pacotes\n",
        "import tweepy"
      ],
      "metadata": {
        "id": "pRHWjQmwnr7U"
      },
      "execution_count": 2,
      "outputs": []
    },
    {
      "cell_type": "code",
      "source": [
        "# Credenciais para utilização do API Twitter\n",
        "API_key = \"GTes1V8vuk4gTsKdniNmqRKx3\"\n",
        "API_secret_key = \"AZupPmk3tQ2olQejhw8kPStrdAqPdrLkOeeUIT5hNfLYh7ELkU\"\n",
        "access_token= \"1659282121138094080-cvsCNJicRCLmcbIDutB4rw5kFFFYYi\"\n",
        "access_token_secret = \"uFougmPA7NR2hiUGdkMHrCfsyEW2iCRIywqjCD4F4KF0r\"\n"
      ],
      "metadata": {
        "id": "TUJqsYAOqOV_"
      },
      "execution_count": 3,
      "outputs": []
    },
    {
      "cell_type": "code",
      "source": [
        "# Autenticação no Twitter\n",
        "auth = tweepy.OAuthHandler(API_key, API_secret_key)\n",
        "auth.set_access_token(access_token, access_token_secret)"
      ],
      "metadata": {
        "id": "8m8vZJRCqmqC"
      },
      "execution_count": 4,
      "outputs": []
    },
    {
      "cell_type": "code",
      "source": [
        "# Contruindo Instancia da API\n",
        "api = tweepy.API(auth)"
      ],
      "metadata": {
        "id": "BGSxphGSr6u6"
      },
      "execution_count": 5,
      "outputs": []
    },
    {
      "cell_type": "markdown",
      "source": [
        "##Realizando a busca de tweets de um usuário"
      ],
      "metadata": {
        "id": "fMxZ9W-kv9lX"
      }
    },
    {
      "cell_type": "code",
      "source": [
        "userName = \"ProfessoraIGTI\"\n",
        "userID = \"IgtiProfessora\""
      ],
      "metadata": {
        "id": "tDJz6UZ3v_mm"
      },
      "execution_count": 9,
      "outputs": []
    },
    {
      "cell_type": "code",
      "source": [
        "# Buscando tweets de um determinado usuário (timeline do usuário)\n",
        "user_tweets = api.user_timeline(screen_name=userID,\n",
        "           count= 200, # Buscar no máximo 200 tweets\n",
        "           include_rts = False, # Não incluir retweets\n",
        "           tweet_mode = 'extended' # Necessario para buscar o full_text (280 caracteres)\n",
        ")"
      ],
      "metadata": {
        "id": "7JUd8XmszDyn"
      },
      "execution_count": null,
      "outputs": []
    },
    {
      "cell_type": "code",
      "source": [
        "len(user_tweets)"
      ],
      "metadata": {
        "id": "pQ9BHAX8w2aQ"
      },
      "execution_count": null,
      "outputs": []
    },
    {
      "cell_type": "code",
      "source": [
        "# Exibindo os 3 tweets mais atuais\n",
        "for user_tweet in user_tweets[:3]:\n",
        "    print(\"ID: {}\".format(user_tweet.id))\n",
        "    print(user_tweet.created_at)\n",
        "    print(user_tweet.full_text + \"\\n\")"
      ],
      "metadata": {
        "id": "SGlHLTR2ynzR"
      },
      "execution_count": null,
      "outputs": []
    },
    {
      "cell_type": "markdown",
      "source": [
        "##Realizando a busca dos trends tweets\n",
        "Trends em multiplas localizações\n"
      ],
      "metadata": {
        "id": "bTZSYeL_zPhL"
      }
    },
    {
      "cell_type": "code",
      "source": [
        "# Para buscar os locais disponíveis para os quais o Twitter tem informações de tópicos de tendência\n",
        "available_loc = api.trends_available()"
      ],
      "metadata": {
        "id": "zuWAv54hzPQP"
      },
      "execution_count": null,
      "outputs": []
    },
    {
      "cell_type": "code",
      "source": [
        "# Imprime o primeiro elemento do vetor\n",
        "available_loc [0]"
      ],
      "metadata": {
        "id": "WiSQEC5B0GQq"
      },
      "execution_count": null,
      "outputs": []
    },
    {
      "cell_type": "code",
      "source": [
        "print(\"O número de locais disponíveis é: \" + str(len(available_loc)))"
      ],
      "metadata": {
        "id": "nHUrICkr0MxS"
      },
      "execution_count": null,
      "outputs": []
    },
    {
      "cell_type": "code",
      "source": [
        "print(\"Some of the location are: \")\n",
        "for i in range(0, 200, 20):\n",
        "    print(\"Place : \" + available_loc[i]['name'] +\n",
        "    \", Country : \" + available_loc[i]['country'])"
      ],
      "metadata": {
        "id": "DhCSsYgm0eO2"
      },
      "execution_count": null,
      "outputs": []
    },
    {
      "cell_type": "markdown",
      "source": [
        "##Trends Brasil"
      ],
      "metadata": {
        "id": "U3M0q_lA1NlU"
      }
    },
    {
      "cell_type": "code",
      "source": [
        "BRAZIL_WOEID = 23424768"
      ],
      "metadata": {
        "id": "9CTsRcnt1MdG"
      },
      "execution_count": 11,
      "outputs": []
    },
    {
      "cell_type": "code",
      "source": [
        "brazil.trends = api.trends_place(BRAZIL_WOEID)"
      ],
      "metadata": {
        "id": "Y6soMb5j9wHD"
      },
      "execution_count": null,
      "outputs": []
    },
    {
      "cell_type": "code",
      "source": [
        "print(\"O numero de trends para esta localização é: \" + str(len(brazil_trends)))"
      ],
      "metadata": {
        "id": "wLc4Edlk-U-w"
      },
      "execution_count": null,
      "outputs": []
    },
    {
      "cell_type": "code",
      "source": [
        "# Imprime o primeiro elemento do vetor\n",
        "brazil.trends[0][\"trends\"][0]"
      ],
      "metadata": {
        "id": "_E--DUDE-sP0"
      },
      "execution_count": null,
      "outputs": []
    },
    {
      "cell_type": "code",
      "source": [
        "# Imprimir os 5 primeiros elementos do vetor\n",
        "\n",
        "print(\"Os top 5 trends desta localização são:\\n\")\n",
        "for i in range(0, 5):\n",
        "  print(str(i) + ' - ' + brazil_trends[0]['trends'][i]['name'])\n"
      ],
      "metadata": {
        "id": "zgR195aq_Zga"
      },
      "execution_count": null,
      "outputs": []
    },
    {
      "cell_type": "code",
      "source": [
        "# Imprimir todo o vetor, apenas a coluna 'name\"\n",
        "print(\"os top trends desa localização são: \\n\")\n",
        "for value in brazil_trends:\n",
        "  for trend in value['trends']:\n",
        "      print(trend['name'])"
      ],
      "metadata": {
        "id": "fUfZGm4X_tL4"
      },
      "execution_count": null,
      "outputs": []
    },
    {
      "cell_type": "markdown",
      "source": [
        "## Realizar busca por palavra chave"
      ],
      "metadata": {
        "id": "EVjPakjcAQrs"
      }
    },
    {
      "cell_type": "code",
      "source": [
        "# Define palavra de busca\n",
        "keyword = (\" 'irpf' OR 'imposto de renda' OR '#IRPF2021' OR '#ImpostoDeRenda' \")"
      ],
      "metadata": {
        "id": "0d64NWbnALdB"
      },
      "execution_count": null,
      "outputs": []
    },
    {
      "cell_type": "code",
      "source": [
        "# Define lista de armazenamento\n",
        "tweets = []\n",
        "info = []"
      ],
      "metadata": {
        "id": "iBVBRsTZA4v_"
      },
      "execution_count": null,
      "outputs": []
    },
    {
      "cell_type": "code",
      "source": [
        "# Contruir a instancia da API (já foi realizado antes)\n",
        "token = tweepy.API(auth,wait_on_rate_limit=True,wait_on_rate_limit_notify=True)"
      ],
      "metadata": {
        "id": "fBj9P6bTBn1z"
      },
      "execution_count": null,
      "outputs": []
    },
    {
      "cell_type": "code",
      "source": [
        "for tweer in tweepy.Cursor(token.search,\n",
        "                   q=keyword, tweet_mode='extend',\n",
        "                    rpp=20,\n",
        "                    result_type=\"mixed\"\n",
        "                    lang='pt'\n",
        "                    include_entities=True).items(20)\n",
        "\n",
        "\n",
        "if 'retweeted_status' in dir(tweet):\n",
        "    aux=tweet.retweeted_status.full_text\n",
        "\n",
        "else:\n",
        "  aux=tweet.full_text\n",
        "\n",
        "newtweet = aux.replace(\"\\n\", \" \")\n",
        "\n",
        "tweets.append(newtweet)\n",
        "info.append(tweet)\n",
        "\n",
        "file = open(\"tweets_keyword_irpf.txt\", \"a\", -1, \"utf-8\")\n",
        "file.write(newtweet+'\\n')\n",
        "file.close()"
      ],
      "metadata": {
        "id": "5bJzQXcNSwEE"
      },
      "execution_count": null,
      "outputs": []
    },
    {
      "cell_type": "code",
      "source": [
        "# Para verificar a quantidade de tweets coletado\n",
        "print(\"Total de tweets coletado %s.\" %(len(info)))\n"
      ],
      "metadata": {
        "id": "4vx6UeP0Sxy6"
      },
      "execution_count": null,
      "outputs": []
    },
    {
      "cell_type": "code",
      "source": [
        "tweets"
      ],
      "metadata": {
        "id": "of3-AC9_Wq7g"
      },
      "execution_count": null,
      "outputs": []
    },
    {
      "cell_type": "code",
      "source": [
        "info"
      ],
      "metadata": {
        "id": "GBCHAYrQWsKs"
      },
      "execution_count": null,
      "outputs": []
    },
    {
      "cell_type": "code",
      "source": [
        "# Install\n",
        "# !pip install json\n",
        "\n",
        "# Import\n",
        "import json"
      ],
      "metadata": {
        "id": "h08m0X45Wx-6"
      },
      "execution_count": null,
      "outputs": []
    },
    {
      "cell_type": "code",
      "source": [
        "with open(\"tweets_irpf_pt.json\", \"w\") as filename:\n",
        "  for tweet in info:\n",
        "   status = tweet\n",
        "   json_str = json.dumps(status._json)\n",
        "\n",
        "   parsed = json.loads(json_str)\n",
        "   filename.write(json.dump(parsed,indent=4))"
      ],
      "metadata": {
        "id": "sONyxXQzXo5J"
      },
      "execution_count": null,
      "outputs": []
    },
    {
      "cell_type": "markdown",
      "source": [
        "## Armazenar em arquivo CSV"
      ],
      "metadata": {
        "id": "K2NeFAHfYMoZ"
      }
    },
    {
      "cell_type": "code",
      "source": [
        "# Install\n",
        "# !pip install pandas\n",
        "# !pip install numpy\n",
        "\n",
        "# Import\n",
        "\n",
        "import pandas as pd\n",
        "import numpy as np"
      ],
      "metadata": {
        "id": "G7z4npGZYUYq"
      },
      "execution_count": null,
      "outputs": []
    },
    {
      "cell_type": "code",
      "source": [
        "tweets_df = pd.DataFrame(tweets, columns=['Tweets'])\n",
        "\n",
        "tweets_df['len'] = np.array([len(tweet) for tweet in tweets])\n",
        "\n",
        "tweets_df['ID'] = np.array([tweet.id for tweet in info])\n",
        "tweets_df['USER'] = np.array([tweet.user.screen_name for tweet in info])\n",
        "tweets_df['userName'] = np.array([tweet.user.name for tweet in info])\n",
        "tweets_df['User Location'] = np.array([tweet.user.location for tweet in info])\n",
        "tweets_df['Languages'] = np.array([tweet.lang for tweet in info])\n",
        "tweets_df['Date'] = np.array([tweet.at for tweet in info])\n",
        "tweets_df['Sources'] = np.array([tweet.favorite_count for tweet in info])\n",
        "tweets_df['Likes'] = np.array([tweet.retweet_count for tweet in info])\n",
        "\n",
        "# Escrever/gravar arquivo CSV a partir da dataframe\n",
        "tweets_df.to_csv(\"tweets_keyword_IRPF.csv\")"
      ],
      "metadata": {
        "id": "lVaOSpKJYix5"
      },
      "execution_count": null,
      "outputs": []
    },
    {
      "cell_type": "code",
      "source": [
        "# Imprimir as 3 primeiras linhas do dataframe\n",
        "tweets_df.head(3)"
      ],
      "metadata": {
        "id": "iHq5FbzidKf3"
      },
      "execution_count": null,
      "outputs": []
    },
    {
      "cell_type": "code",
      "source": [
        "# Imprimindo o nome do usuario e o texto do tweet\n",
        "tweet = info[0]\n",
        "\n",
        "print(\"Usuário: %s\" % {tweet.user.screen_name})\n",
        "print(\" Twitter: %s\" % {tweet.full_text})"
      ],
      "metadata": {
        "id": "bpFfh9XNdQiY"
      },
      "execution_count": null,
      "outputs": []
    }
  ]
}